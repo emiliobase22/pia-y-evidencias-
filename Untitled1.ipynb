{
  "nbformat": 4,
  "nbformat_minor": 0,
  "metadata": {
    "colab": {
      "provenance": [],
      "authorship_tag": "ABX9TyNSp7gGLMqO80pt34w58NH5",
      "include_colab_link": true
    },
    "kernelspec": {
      "name": "python3",
      "display_name": "Python 3"
    },
    "language_info": {
      "name": "python"
    }
  },
  "cells": [
    {
      "cell_type": "markdown",
      "metadata": {
        "id": "view-in-github",
        "colab_type": "text"
      },
      "source": [
        "<a href=\"https://colab.research.google.com/github/emiliobase22/pia-y-evidencias-/blob/main/Untitled1.ipynb\" target=\"_parent\"><img src=\"https://colab.research.google.com/assets/colab-badge.svg\" alt=\"Open In Colab\"/></a>"
      ]
    },
    {
      "cell_type": "code",
      "execution_count": null,
      "metadata": {
        "colab": {
          "base_uri": "https://localhost:8080/"
        },
        "id": "8y35KTAE9IGG",
        "outputId": "ed824ec2-0516-4ec8-f77e-42b171cacbcc"
      },
      "outputs": [
        {
          "output_type": "stream",
          "name": "stdout",
          "text": [
            "Nombre: diego\n",
            "Nota: 2\n",
            "Libre\n",
            "Nombre: ana\n",
            "Nota: 10\n",
            "Regular\n"
          ]
        }
      ],
      "source": [
        "class Alumno:\n",
        "\n",
        "    def inicializar(self,nombre,nota):\n",
        "        self.nombre=nombre\n",
        "        self.nota=nota\n",
        "\n",
        "    def imprimir(self):\n",
        "        print(\"Nombre:\",self.nombre)\n",
        "        print(\"Nota:\",self.nota)\n",
        "\n",
        "    def mostrar_estado(self):\n",
        "        if self.nota>=4:\n",
        "            print(\"Regular\")\n",
        "        else:\n",
        "            print(\"Libre\")\n",
        "\n",
        "\n",
        "# bloque principal\n",
        "\n",
        "alumno1=Alumno()\n",
        "alumno1.inicializar(\"diego\",2)\n",
        "alumno1.imprimir()\n",
        "alumno1.mostrar_estado()\n",
        "\n",
        "alumno2=Alumno()\n",
        "alumno2.inicializar(\"ana\",10)\n",
        "alumno2.imprimir()\n",
        "alumno2.mostrar_estado()\n"
      ]
    },
    {
      "cell_type": "code",
      "source": [
        "class Persona:\n",
        "\n",
        "    def inicializar(self,nom):\n",
        "        self.nombre=nom\n",
        "\n",
        "    def imprimir(self):\n",
        "        print(\"Nombre\",self.nombre)\n",
        "\n",
        "\n",
        "# bloque principal\n",
        "\n",
        "persona1=Persona()\n",
        "persona1.inicializar(\"Pedro\")\n",
        "persona1.imprimir()\n",
        "\n",
        "persona2=Persona()\n",
        "persona2.inicializar(\"Carla\")\n",
        "persona2.imprimir()\n"
      ],
      "metadata": {
        "colab": {
          "base_uri": "https://localhost:8080/"
        },
        "id": "rlzUQxXe_WGr",
        "outputId": "dfbbbced-8e6c-4765-cbfe-9b0278ba5a7d"
      },
      "execution_count": null,
      "outputs": [
        {
          "output_type": "stream",
          "name": "stdout",
          "text": [
            "Nombre Pedro\n",
            "Nombre Carla\n"
          ]
        }
      ]
    },
    {
      "cell_type": "code",
      "source": [
        "\n",
        "\n",
        "class Triangulo:\n",
        "\n",
        "\n",
        "\n",
        "  def lados(self):\n",
        "    self.lad1=int(input(\"dame el primer lado\"))\n",
        "    self.lado2=int(input(\"dame el segundo lado \"))\n",
        "    self.lado3=int(input(\"dame el tercer lado \"))\n",
        "\n",
        "\n",
        "  def imprimir(self):\n",
        "   print(\"lado 1:\",self.lado1)\n",
        "   print(\" lado 3: \",self.lado2)\n",
        "   print(\"lado 3:\",self.lado3)\n",
        "\n",
        "\n",
        "  def equilatero (self):\n",
        "    if self.lado1==self.lado2 and  self.lado1==self.lado3:\n",
        "      print(\"es quilatero\")\n",
        "    else:\n",
        "      print(\"el triangulo no s equilatero \")\n",
        "\n",
        "  def lado_mayor(self):\n",
        "    if self.lado1>self.lado2 and self.lado1>self.lado3:\n",
        "      print(\" el lado 1 es mayor\")\n",
        "    else:\n",
        "        if self.lado2>self.lado3:\n",
        "          print(\"el  lado 2 es mayor \")\n",
        "        else:\n",
        "            print(\" el lado 3 es el mayor \")\n",
        "\n",
        "\n",
        "#BLOQUEPRINCIPAL\n",
        "\n",
        "    triangulo1=Triangulo()\n",
        "    triangulo1.lado()\n",
        "    triangulo1.imprimir()\n",
        "    triangulo1.equilatero()\n",
        "    triangulo1.lado_mayor()\n",
        "\n",
        "\n",
        "\n"
      ],
      "metadata": {
        "id": "TCk0BCNd_fg_"
      },
      "execution_count": null,
      "outputs": []
    },
    {
      "cell_type": "code",
      "source": [
        "class Empleado:\n",
        "\n",
        "    def __init__(self):\n",
        "        self.nombre=input(\"Ingrese el nombre del empleado:\")\n",
        "        self.sueldo=float(input(\"Ingrese el sueldo:\"))\n",
        "\n",
        "    def imprimir(self):\n",
        "        print(\"Nombre:\",self.nombre)\n",
        "        print(\"Sueldo:\",self.sueldo)\n",
        "\n",
        "    def paga_impuestos(self):\n",
        "        if self.sueldo>3000:\n",
        "            print(\"Debe pagar impuestos\")\n",
        "        else:\n",
        "            print(\"No paga impuestos\")\n",
        "\n",
        "\n",
        "# bloque principal\n",
        "\n",
        "empleado1=Empleado()\n",
        "empleado1.imprimir()\n",
        "empleado1.paga_impuestos()\n"
      ],
      "metadata": {
        "colab": {
          "base_uri": "https://localhost:8080/"
        },
        "id": "b3Q-vVX3bu2X",
        "outputId": "ba3dae41-75ad-40b9-eef6-770b77483dd1"
      },
      "execution_count": null,
      "outputs": [
        {
          "output_type": "stream",
          "name": "stdout",
          "text": [
            "Ingrese el nombre del empleado:emilio\n",
            "Ingrese el sueldo:12000\n",
            "Nombre: emilio\n",
            "Sueldo: 12000.0\n",
            "Debe pagar impuestos\n"
          ]
        }
      ]
    },
    {
      "cell_type": "code",
      "source": [],
      "metadata": {
        "id": "NZKdfy3YcEuU"
      },
      "execution_count": null,
      "outputs": []
    },
    {
      "cell_type": "code",
      "source": [
        "class Punto:\n",
        "\n",
        "    def __init__(self,x,y):\n",
        "        self.x=x\n",
        "        self.y=y\n",
        "\n",
        "    def imprimir(self):\n",
        "        print(\"Coordenada del punto\")\n",
        "        print(\"(\",self.x,\",\",self.y,\")\")\n",
        "\n",
        "    def imprimir_cuadrante(self):\n",
        "        if self.x>0 and self.y>0:\n",
        "            print(\"Primer cuadrange\")\n",
        "        else:\n",
        "            if self.x<0 and self.y>0:\n",
        "                print(\"Segundo cuadrante\")\n",
        "            else:\n",
        "                if self.x<0 and self.y<0:\n",
        "                    print(\"Tercer cuadrante\")\n",
        "                else:\n",
        "                    if self.x>0 and self.y<0:\n",
        "                        print(\"Cuarto cuadrante\")\n",
        "\n",
        "\n",
        "# bloque principal\n",
        "\n",
        "punto1=Punto(10,-2)\n",
        "punto1.imprimir()\n",
        "punto1.imprimir_cuadrante()"
      ],
      "metadata": {
        "colab": {
          "base_uri": "https://localhost:8080/"
        },
        "id": "cueeGKeAcEvl",
        "outputId": "1968741d-5544-4885-9b51-b61581eff88b"
      },
      "execution_count": null,
      "outputs": [
        {
          "output_type": "stream",
          "name": "stdout",
          "text": [
            "Coordenada del punto\n",
            "( 10 , -2 )\n",
            "Cuarto cuadrante\n"
          ]
        }
      ]
    },
    {
      "cell_type": "code",
      "source": [
        "class cuadrado:\n",
        "\n",
        "  def __init__(self,lado):\n",
        "    self.lado=lado\n",
        "\n",
        "  def mostrar_parametro(self):\n",
        "    perimetro=self.lado*4\n",
        "    print(\"el permietro es \",perimetro)\n",
        "\n",
        "\n",
        "  def superficie(self):\n",
        "    superficie=self.lado*self.lado\n",
        "    print(\"la superficie es :\",superficie )\n",
        "\n",
        "\n",
        "\n",
        "cuadrado1=cuadrado(12)\n",
        "cuadrado1.mostrar_parametro()\n",
        "cuadrado1.superficie()\n",
        "\n",
        "\n",
        "\n"
      ],
      "metadata": {
        "colab": {
          "base_uri": "https://localhost:8080/"
        },
        "id": "WR4EDe3McJec",
        "outputId": "4fba8551-19c9-49d5-8f9e-5224c4e45bf2"
      },
      "execution_count": null,
      "outputs": [
        {
          "output_type": "stream",
          "name": "stdout",
          "text": [
            "el permietro es  48\n",
            "la superficie es : 144\n"
          ]
        }
      ]
    },
    {
      "cell_type": "code",
      "source": [
        "class  operaciones :\n",
        "  def __init__(self):\n",
        "    self.valor1=int(input(\"dame un valor\"))\n",
        "    self.valor2=int(input(\"dame otro valor\"))\n",
        "\n",
        "  def suma(self):\n",
        "    suma=self.valor1+self.valor2\n",
        "    print(\"la suma de los valores es \",suma)\n",
        "\n",
        "\n",
        "  def resta(self):\n",
        "    resta=self.valor1-self.valor2\n",
        "    print(\" la resta de los valores es :\",resta)\n",
        "\n",
        "  def multiplicacion(self):\n",
        "    multi=self.valor1*self.valor2\n",
        "    print(\"la multiplicacion es :\", multi)\n",
        "\n",
        "\n",
        "  def  divicion(self):\n",
        "    divi= self.valor1/self.valor2\n",
        "    print(\"la divicion de los vcalores es :\",divi)\n",
        "\n",
        "\n",
        "\n",
        "\n",
        "\n",
        "\n",
        "\n",
        "  operaciones1=operaciones()\n",
        "  operaciones1.suma()\n",
        "  operaciones1.resta()\n",
        "  operaciones1.multiplicacion()\n",
        "  operaciones1.divicion()"
      ],
      "metadata": {
        "colab": {
          "base_uri": "https://localhost:8080/",
          "height": 366
        },
        "id": "SQEqwA-PgYqR",
        "outputId": "db0985b8-4f85-4bc8-de45-3db18357652f"
      },
      "execution_count": null,
      "outputs": [
        {
          "output_type": "error",
          "ename": "NameError",
          "evalue": "ignored",
          "traceback": [
            "\u001b[0;31m---------------------------------------------------------------------------\u001b[0m",
            "\u001b[0;31mNameError\u001b[0m                                 Traceback (most recent call last)",
            "\u001b[0;32m<ipython-input-28-1392a3026b89>\u001b[0m in \u001b[0;36m<cell line: 1>\u001b[0;34m()\u001b[0m\n\u001b[0;32m----> 1\u001b[0;31m \u001b[0;32mclass\u001b[0m  \u001b[0moperaciones\u001b[0m \u001b[0;34m:\u001b[0m\u001b[0;34m\u001b[0m\u001b[0;34m\u001b[0m\u001b[0m\n\u001b[0m\u001b[1;32m      2\u001b[0m   \u001b[0;32mdef\u001b[0m \u001b[0m__init__\u001b[0m\u001b[0;34m(\u001b[0m\u001b[0mself\u001b[0m\u001b[0;34m)\u001b[0m\u001b[0;34m:\u001b[0m\u001b[0;34m\u001b[0m\u001b[0;34m\u001b[0m\u001b[0m\n\u001b[1;32m      3\u001b[0m     \u001b[0mself\u001b[0m\u001b[0;34m.\u001b[0m\u001b[0mvalor1\u001b[0m\u001b[0;34m=\u001b[0m\u001b[0mint\u001b[0m\u001b[0;34m(\u001b[0m\u001b[0minput\u001b[0m\u001b[0;34m(\u001b[0m\u001b[0;34m\"dame un valor\"\u001b[0m\u001b[0;34m)\u001b[0m\u001b[0;34m)\u001b[0m\u001b[0;34m\u001b[0m\u001b[0;34m\u001b[0m\u001b[0m\n\u001b[1;32m      4\u001b[0m     \u001b[0mself\u001b[0m\u001b[0;34m.\u001b[0m\u001b[0mvalor2\u001b[0m\u001b[0;34m=\u001b[0m\u001b[0mint\u001b[0m\u001b[0;34m(\u001b[0m\u001b[0minput\u001b[0m\u001b[0;34m(\u001b[0m\u001b[0;34m\"dame otro valor\"\u001b[0m\u001b[0;34m)\u001b[0m\u001b[0;34m)\u001b[0m\u001b[0;34m\u001b[0m\u001b[0;34m\u001b[0m\u001b[0m\n\u001b[1;32m      5\u001b[0m \u001b[0;34m\u001b[0m\u001b[0m\n",
            "\u001b[0;32m<ipython-input-28-1392a3026b89>\u001b[0m in \u001b[0;36moperaciones\u001b[0;34m()\u001b[0m\n\u001b[1;32m     28\u001b[0m \u001b[0;34m\u001b[0m\u001b[0m\n\u001b[1;32m     29\u001b[0m \u001b[0;34m\u001b[0m\u001b[0m\n\u001b[0;32m---> 30\u001b[0;31m   \u001b[0moperaciones1\u001b[0m\u001b[0;34m=\u001b[0m\u001b[0moperaciones\u001b[0m\u001b[0;34m(\u001b[0m\u001b[0;34m)\u001b[0m\u001b[0;34m\u001b[0m\u001b[0;34m\u001b[0m\u001b[0m\n\u001b[0m\u001b[1;32m     31\u001b[0m   \u001b[0moperaciones1\u001b[0m\u001b[0;34m.\u001b[0m\u001b[0msuma\u001b[0m\u001b[0;34m(\u001b[0m\u001b[0;34m)\u001b[0m\u001b[0;34m\u001b[0m\u001b[0;34m\u001b[0m\u001b[0m\n\u001b[1;32m     32\u001b[0m   \u001b[0moperaciones1\u001b[0m\u001b[0;34m.\u001b[0m\u001b[0mresta\u001b[0m\u001b[0;34m(\u001b[0m\u001b[0;34m)\u001b[0m\u001b[0;34m\u001b[0m\u001b[0;34m\u001b[0m\u001b[0m\n",
            "\u001b[0;31mNameError\u001b[0m: name 'operaciones' is not defined"
          ]
        }
      ]
    }
  ]
}