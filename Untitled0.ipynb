{
  "nbformat": 4,
  "nbformat_minor": 0,
  "metadata": {
    "colab": {
      "provenance": [],
      "toc_visible": true,
      "authorship_tag": "ABX9TyMolgutyjdhRkpSS2X+w3S0",
      "include_colab_link": true
    },
    "kernelspec": {
      "name": "python3",
      "display_name": "Python 3"
    },
    "language_info": {
      "name": "python"
    }
  },
  "cells": [
    {
      "cell_type": "markdown",
      "metadata": {
        "id": "view-in-github",
        "colab_type": "text"
      },
      "source": [
        "<a href=\"https://colab.research.google.com/github/emiliobase22/pia-y-evidencias-/blob/main/Untitled0.ipynb\" target=\"_parent\"><img src=\"https://colab.research.google.com/assets/colab-badge.svg\" alt=\"Open In Colab\"/></a>"
      ]
    },
    {
      "cell_type": "code",
      "execution_count": 1,
      "metadata": {
        "id": "S1MCGiGn8riO",
        "colab": {
          "base_uri": "https://localhost:8080/"
        },
        "outputId": "5b33f50b-5a2d-413c-a172-c1916c687a42"
      },
      "outputs": [
        {
          "output_type": "stream",
          "name": "stdout",
          "text": [
            "Nombre Pedro\n",
            "Nombre Carla\n"
          ]
        }
      ],
      "source": [
        "class Persona:\n",
        "\n",
        "    def inicializar(self,nom):\n",
        "        self.nombre=nom\n",
        "\n",
        "    def imprimir(self):\n",
        "        print(\"Nombre\",self.nombre)\n",
        "\n",
        "\n",
        "# bloque principal\n",
        "\n",
        "persona1=Persona()\n",
        "persona1.inicializar(\"Pedro\")\n",
        "persona1.imprimir()\n",
        "\n",
        "persona2=Persona()\n",
        "persona2.inicializar(\"Carla\")\n",
        "persona2.imprimir()"
      ]
    },
    {
      "cell_type": "code",
      "source": [
        "class Alumno:\n",
        "\n",
        "    def inicializar(self,nombre,nota):\n",
        "        self.nombre=nombre\n",
        "        self.nota=nota\n",
        "\n",
        "    def imprimir(self):\n",
        "        print(\"Nombre:\",self.nombre)\n",
        "        print(\"Nota:\",self.nota)\n",
        "\n",
        "    def mostrar_estado(self):\n",
        "        if self.nota>=4:\n",
        "            print(\"Regular\")\n",
        "        else:\n",
        "            print(\"Libre\")\n",
        "\n",
        "\n",
        "# bloque principal\n",
        "\n",
        "alumno1=Alumno()\n",
        "alumno1.inicializar(\"diego\",2)\n",
        "alumno1.imprimir()\n",
        "alumno1.mostrar_estado()\n",
        "\n",
        "alumno2=Alumno()\n",
        "alumno2.inicializar(\"ana\",10)\n",
        "alumno2.imprimir()\n",
        "alumno2.mostrar_estado()"
      ],
      "metadata": {
        "colab": {
          "base_uri": "https://localhost:8080/"
        },
        "id": "IQPwLatVgAvC",
        "outputId": "7b6ae598-f0d2-413b-fa7d-af7b1700f145"
      },
      "execution_count": 2,
      "outputs": [
        {
          "output_type": "stream",
          "name": "stdout",
          "text": [
            "Nombre: diego\n",
            "Nota: 2\n",
            "Libre\n",
            "Nombre: ana\n",
            "Nota: 10\n",
            "Regular\n"
          ]
        }
      ]
    },
    {
      "cell_type": "code",
      "source": [],
      "metadata": {
        "id": "ky6qXJT4gJm5"
      },
      "execution_count": null,
      "outputs": []
    }
  ]
}