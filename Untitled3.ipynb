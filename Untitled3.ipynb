{
  "nbformat": 4,
  "nbformat_minor": 0,
  "metadata": {
    "colab": {
      "provenance": [],
      "authorship_tag": "ABX9TyM04v8tKUl3L8WaV1g4xykL",
      "include_colab_link": true
    },
    "kernelspec": {
      "name": "python3",
      "display_name": "Python 3"
    },
    "language_info": {
      "name": "python"
    }
  },
  "cells": [
    {
      "cell_type": "markdown",
      "metadata": {
        "id": "view-in-github",
        "colab_type": "text"
      },
      "source": [
        "<a href=\"https://colab.research.google.com/github/emiliobase22/pia-y-evidencias-/blob/main/Untitled3.ipynb\" target=\"_parent\"><img src=\"https://colab.research.google.com/assets/colab-badge.svg\" alt=\"Open In Colab\"/></a>"
      ]
    },
    {
      "cell_type": "code",
      "execution_count": null,
      "metadata": {
        "id": "qe7t_h8cLBq_"
      },
      "outputs": [],
      "source": [
        "archi1=open(\"el primo.txt\",\"w\")\n",
        "archi1.write(\"nombre:el primo.\\n\")\n",
        "archi1.write(\"apellidos:marquez aguilar .\\n\")\n",
        "archi1.write(\"edad:16 años.\\n\")\n",
        "archi1.write(\"voacion:luchador de la lucha libre \")\n",
        "archi1.write(\"estado:triplemente soltero buscando novia \")\n",
        "archi1.write(\"pasiva:siempre que en el ring sean 2 contra uno el primo ganara furza adaptable y tenasidad y tendra una probabilida (30%--/\\70%) de  que sus ataques basicos aturdan a sus enemigospor 1.5 seg\")\n",
        "archi1.write(\"set de habilidades :\")\n",
        "archi1.close()"
      ]
    },
    {
      "cell_type": "code",
      "source": [
        "archi1=open(\"datos1.txt\",\"r\")\n",
        "contenido=archi1.read()\n",
        "print(contenido)\n",
        "archi1.close()"
      ],
      "metadata": {
        "colab": {
          "base_uri": "https://localhost:8080/"
        },
        "id": "4_yw0zHukn_u",
        "outputId": "c7067882-3325-4313-d354-216e01905be9"
      },
      "execution_count": null,
      "outputs": [
        {
          "output_type": "stream",
          "name": "stdout",
          "text": [
            "﻿Primer línea.\n",
            "\n",
            "Segunda línea.\n",
            "\n",
            "Tercer línea.\n",
            "cuatalinea ¿Es confuso, verdad? Sin embargo sabes perfectamente cuando estás mal, todo tu cuerpo física y mentalmente te lo hace saber te notas flojo con pensamiento fatalistas, esa sensación que está todo perdido de que ya nada volverá a ser como antes te torturas recordado una vivencia pasada aleatoria que en aquel entonces ni siquiera parecía un buen momento pero comparado como te sientes ahora podría incluso decirse que. ¿Fuiste feliz sin saberlo? En si, la vida toda nuestra exsitencia es un reflejo de nuestra creación, sin propósito, sin plan, solo una serie de caóticas casualidades que dió la combinación justa para la vida, del mismo modo estás tú vivo por pura casualidad se estima que a lo largo de la vida de un hombre adulto producirá más de 500000 millones de espermatozoides mientras la mujer para cuando tenga 20 años tendrá quizás uno 30.000 óvulos solo esas 2 personas se tuvieron que conocer si no que tuvieron que conocerse en el momento exacto para que de las más de 500000 millones de opciones que había, fueras tú qué vivieras pero no termina ahí después de pasar un embarazo y un parto sin complicaciones graves aún tendras que lidiar con algunos virus que podrán en peligro tu vida, enfermedades, infecciones accidentes de todo tipo y por último, el factor más peligroso al que te enfrentarás durante toda tu vida.... Tu mismo. Y no es un decir, no es para darle un aire poetico. Es real. Por eso la soledad es tan terrible, es como estar muerto en vida. Es tener lo peor de las dos opciones ser olvidado y en cima ser consciente de ello. Ese es el mayor miedo del ser humano y lo está sintiendo ahora mismo cerca del 20% de la población mundial, 20 y subiendo, porque las nuevas tecnologías y redes sociales no ofrecen un contacto real, no lo puedes sustituir, y el problema es creer que si lo hace, porque paulatinamente se invierte menos tiempo en interacciones de verdad.\n"
          ]
        }
      ]
    },
    {
      "cell_type": "code",
      "source": [
        "archi1=open(\"datos1.txt\",\"r\")\n",
        "linea=archi1.readline()\n",
        "while linea!='':\n",
        "    print(linea, end='')\n",
        "    linea=archi1.readline()\n",
        "archi1.close()"
      ],
      "metadata": {
        "colab": {
          "base_uri": "https://localhost:8080/"
        },
        "id": "qz0pMtY3lmCv",
        "outputId": "ae9d3708-c374-4180-968e-baaa40b954fd"
      },
      "execution_count": null,
      "outputs": [
        {
          "output_type": "stream",
          "name": "stdout",
          "text": [
            "﻿Primer línea.\n",
            "\n",
            "Segunda línea.\n",
            "\n",
            "Tercer línea.\n",
            "cuatalinea ¿Es confuso, verdad? Sin embargo sabes perfectamente cuando estás mal, todo tu cuerpo física y mentalmente te lo hace saber te notas flojo con pensamiento fatalistas, esa sensación que está todo perdido de que ya nada volverá a ser como antes te torturas recordado una vivencia pasada aleatoria que en aquel entonces ni siquiera parecía un buen momento pero comparado como te sientes ahora podría incluso decirse que. ¿Fuiste feliz sin saberlo? En si, la vida toda nuestra exsitencia es un reflejo de nuestra creación, sin propósito, sin plan, solo una serie de caóticas casualidades que dió la combinación justa para la vida, del mismo modo estás tú vivo por pura casualidad se estima que a lo largo de la vida de un hombre adulto producirá más de 500000 millones de espermatozoides mientras la mujer para cuando tenga 20 años tendrá quizás uno 30.000 óvulos solo esas 2 personas se tuvieron que conocer si no que tuvieron que conocerse en el momento exacto para que de las más de 500000 millones de opciones que había, fueras tú qué vivieras pero no termina ahí después de pasar un embarazo y un parto sin complicaciones graves aún tendras que lidiar con algunos virus que podrán en peligro tu vida, enfermedades, infecciones accidentes de todo tipo y por último, el factor más peligroso al que te enfrentarás durante toda tu vida.... Tu mismo. Y no es un decir, no es para darle un aire poetico. Es real. Por eso la soledad es tan terrible, es como estar muerto en vida. Es tener lo peor de las dos opciones ser olvidado y en cima ser consciente de ello. Ese es el mayor miedo del ser humano y lo está sintiendo ahora mismo cerca del 20% de la población mundial, 20 y subiendo, porque las nuevas tecnologías y redes sociales no ofrecen un contacto real, no lo puedes sustituir, y el problema es creer que si lo hace, porque paulatinamente se invierte menos tiempo en interacciones de verdad."
          ]
        }
      ]
    },
    {
      "cell_type": "code",
      "source": [
        "archi1=open(\"datos.txt\",\"r\")\n",
        "for linea in archi1:\n",
        "    print(linea, end='')\n",
        "archi1.close()"
      ],
      "metadata": {
        "colab": {
          "base_uri": "https://localhost:8080/"
        },
        "id": "0BbjyHp7on3_",
        "outputId": "73cadfb3-a5e3-4be8-a896-08215d63a7f5"
      },
      "execution_count": null,
      "outputs": [
        {
          "output_type": "stream",
          "name": "stdout",
          "text": [
            "Primer línea.\n",
            "Segunda línea.\n",
            "Tercer línea.\n"
          ]
        }
      ]
    },
    {
      "cell_type": "code",
      "source": [
        "archi1=open(\"datos1.txt\",\"r\")\n",
        "for linea in archi1:\n",
        "    print(linea, end='')\n",
        "archi1.close()"
      ],
      "metadata": {
        "colab": {
          "base_uri": "https://localhost:8080/"
        },
        "id": "uqGTP_iAoujn",
        "outputId": "c71b1903-0439-401e-a2e9-7d719d819230"
      },
      "execution_count": null,
      "outputs": [
        {
          "output_type": "stream",
          "name": "stdout",
          "text": [
            "﻿Primer línea.\n",
            "\n",
            "Segunda línea.\n",
            "\n",
            "Tercer línea.\n",
            "cuatalinea ¿Es confuso, verdad? Sin embargo sabes perfectamente cuando estás mal, todo tu cuerpo física y mentalmente te lo hace saber te notas flojo con pensamiento fatalistas, esa sensación que está todo perdido de que ya nada volverá a ser como antes te torturas recordado una vivencia pasada aleatoria que en aquel entonces ni siquiera parecía un buen momento pero comparado como te sientes ahora podría incluso decirse que. ¿Fuiste feliz sin saberlo? En si, la vida toda nuestra exsitencia es un reflejo de nuestra creación, sin propósito, sin plan, solo una serie de caóticas casualidades que dió la combinación justa para la vida, del mismo modo estás tú vivo por pura casualidad se estima que a lo largo de la vida de un hombre adulto producirá más de 500000 millones de espermatozoides mientras la mujer para cuando tenga 20 años tendrá quizás uno 30.000 óvulos solo esas 2 personas se tuvieron que conocer si no que tuvieron que conocerse en el momento exacto para que de las más de 500000 millones de opciones que había, fueras tú qué vivieras pero no termina ahí después de pasar un embarazo y un parto sin complicaciones graves aún tendras que lidiar con algunos virus que podrán en peligro tu vida, enfermedades, infecciones accidentes de todo tipo y por último, el factor más peligroso al que te enfrentarás durante toda tu vida.... Tu mismo. Y no es un decir, no es para darle un aire poetico. Es real. Por eso la soledad es tan terrible, es como estar muerto en vida. Es tener lo peor de las dos opciones ser olvidado y en cima ser consciente de ello. Ese es el mayor miedo del ser humano y lo está sintiendo ahora mismo cerca del 20% de la población mundial, 20 y subiendo, porque las nuevas tecnologías y redes sociales no ofrecen un contacto real, no lo puedes sustituir, y el problema es creer que si lo hace, porque paulatinamente se invierte menos tiempo en interacciones de verdad."
          ]
        }
      ]
    },
    {
      "cell_type": "code",
      "source": [
        "archi1=open(\"datos.txt\",\"r\")\n",
        "lineas=archi1.readlines()\n",
        "print('El archivo tiene', len(lineas), 'líneas')\n",
        "print('El contenido del archivo')\n",
        "for linea in lineas:\n",
        "    print(linea, end='')\n",
        "archi1.close()"
      ],
      "metadata": {
        "colab": {
          "base_uri": "https://localhost:8080/"
        },
        "id": "Sc1CajVlo3Xf",
        "outputId": "3adaeb0c-0a09-4702-8f9c-591f60513ec7"
      },
      "execution_count": null,
      "outputs": [
        {
          "output_type": "stream",
          "name": "stdout",
          "text": [
            "El archivo tiene 3 líneas\n",
            "El contenido del archivo\n",
            "Primer línea.\n",
            "Segunda línea.\n",
            "Tercer línea.\n"
          ]
        }
      ]
    },
    {
      "cell_type": "code",
      "source": [
        "archi1=open(\"el primo.txt\",\"r\")\n",
        "lineas=archi1.readlines()\n",
        "print('El archivo tiene', len(lineas), 'líneas')\n",
        "print('El contenido del archivo')\n",
        "for linea in lineas:\n",
        "    print(linea, end='')\n",
        "archi1.close()"
      ],
      "metadata": {
        "colab": {
          "base_uri": "https://localhost:8080/"
        },
        "id": "8k5p-TKTo7d4",
        "outputId": "a2dc350b-e07c-422b-fb32-0a6b484c412e"
      },
      "execution_count": null,
      "outputs": [
        {
          "output_type": "stream",
          "name": "stdout",
          "text": [
            "El archivo tiene 4 líneas\n",
            "El contenido del archivo\n",
            "nombre:el primo.\n",
            "apellidos:marquez aguilar .\n",
            "edad:16 años.\n",
            "voacion:luchador de la lucha libre estado:triplemente soltero buscando novia pasiva:siempre que en el ring sean 2 contra uno el primo ganara furza adaptable y tenasidad y tendra una probabilida (30%--/8%) de  que sus ataques basicos aturdan a sus enemigospor 1.5 segset de habilidades :"
          ]
        }
      ]
    },
    {
      "cell_type": "code",
      "source": [
        "archi1=open(\"datos.txt\",\"a\")\n",
        "archi1.write(\"nueva línea 1\\n\")\n",
        "archi1.write(\"nueva línea 2\\n\")\n",
        "archi1.close()\n",
        "archi1=open(\"datos.txt\",\"r\")\n",
        "contenido=archi1.read()\n",
        "print(contenido)\n",
        "archi1.close()"
      ],
      "metadata": {
        "colab": {
          "base_uri": "https://localhost:8080/"
        },
        "id": "gFtvuElHpPRW",
        "outputId": "01b52df9-ed3e-4219-f16e-69d487a91268"
      },
      "execution_count": null,
      "outputs": [
        {
          "output_type": "stream",
          "name": "stdout",
          "text": [
            "Primer línea.\n",
            "Segunda línea.\n",
            "Tercer línea.\n",
            "nueva línea 1\n",
            "nueva línea 2\n",
            "\n"
          ]
        }
      ]
    },
    {
      "cell_type": "code",
      "source": [
        "archi1=open(\"datos.txt\",\"r+\")\n",
        "contenido=archi1.read()\n",
        "print(contenido)\n",
        "archi1.write(\"Otra línea 1\\n\")\n",
        "archi1.write(\"Otra línea 2\\n\")\n",
        "archi1.close()"
      ],
      "metadata": {
        "colab": {
          "base_uri": "https://localhost:8080/"
        },
        "id": "d-iOSAjUpZfW",
        "outputId": "8a238967-2eb1-45c4-e852-c297ba0b41fa"
      },
      "execution_count": null,
      "outputs": [
        {
          "output_type": "stream",
          "name": "stdout",
          "text": [
            "Primer línea.\n",
            "Segunda línea.\n",
            "Tercer línea.\n",
            "nueva línea 1\n",
            "nueva línea 2\n",
            "\n"
          ]
        }
      ]
    },
    {
      "cell_type": "code",
      "source": [
        "archi1=open(\"datos.txt\",\"w\", encoding=\"utf-8\")\n",
        "archi1.write(\"Primer línea.\\n\")\n",
        "archi1.write(\"Segunda línea.\\n\")\n",
        "archi1.write(\"Tercer línea.\\n\")\n",
        "archi1.close()"
      ],
      "metadata": {
        "id": "j4cKjUH-pgd2"
      },
      "execution_count": null,
      "outputs": []
    }
  ]
}