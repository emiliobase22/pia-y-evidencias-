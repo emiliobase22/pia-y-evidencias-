{
  "nbformat": 4,
  "nbformat_minor": 0,
  "metadata": {
    "colab": {
      "provenance": [],
      "toc_visible": true,
      "authorship_tag": "ABX9TyP6jo73Knm9ugWSXwdrMXiK",
      "include_colab_link": true
    },
    "kernelspec": {
      "name": "python3",
      "display_name": "Python 3"
    },
    "language_info": {
      "name": "python"
    }
  },
  "cells": [
    {
      "cell_type": "markdown",
      "metadata": {
        "id": "view-in-github",
        "colab_type": "text"
      },
      "source": [
        "<a href=\"https://colab.research.google.com/github/emiliobase22/pia-y-evidencias-/blob/main/de_la_92_a_109.ipynb\" target=\"_parent\"><img src=\"https://colab.research.google.com/assets/colab-badge.svg\" alt=\"Open In Colab\"/></a>"
      ]
    },
    {
      "cell_type": "code",
      "execution_count": 1,
      "metadata": {
        "colab": {
          "base_uri": "https://localhost:8080/"
        },
        "id": "6AP99x8guolL",
        "outputId": "cfe34304-f374-4742-cac8-8fdb3a2ef703"
      },
      "outputs": [
        {
          "output_type": "stream",
          "name": "stdout",
          "text": [
            "/content\n",
            "/content\n"
          ]
        }
      ],
      "source": [
        "# Se hablilita el trabajo con el sistema operativo\n",
        "import os\n",
        "# Obtener la ruta de trabajo actual\n",
        "# (Current Working Directory)\n",
        "ruta=os.getcwd()\n",
        "print(ruta)\n",
        "# Obtiene el valor absoluto de la ruta\n",
        "ruta_absoluta=os.path.abspath(ruta)\n",
        "print(ruta_absoluta)"
      ]
    },
    {
      "cell_type": "code",
      "source": [
        "# Se asume que el archivo colores.txt no existe en el\n",
        "# directorio de trabajo.\n",
        "archivo=\"colores.txt\"\n",
        "# Informa si el archivo existe o no existe.\n",
        "if os.path.exists(archivo):\n",
        " print(\"\\nEl archivo ya existe\")\n",
        "else:\n",
        " print(\"\\nEl archivo no existe\")"
      ],
      "metadata": {
        "colab": {
          "base_uri": "https://localhost:8080/"
        },
        "id": "thKxAke1vEcn",
        "outputId": "75bf2b8e-4f07-49d3-f58d-93b832f62d20"
      },
      "execution_count": 4,
      "outputs": [
        {
          "output_type": "stream",
          "name": "stdout",
          "text": [
            "\n",
            "El archivo ya existe\n"
          ]
        }
      ]
    },
    {
      "cell_type": "code",
      "source": [
        "# Si el archivo existe, lo borra\n",
        "archivo=\"colores.txt\"\n",
        "# Si el archivo existe, lo elimina.\n",
        "# Informa qué se hizo.\n",
        "if os.path.exists(archivo):\n",
        " os.remove(archivo)\n",
        " print(\"\\nEl archivo se eliminó\")\n",
        "else:\n",
        " print(\"\\nEl archivo no existe. No se eliminó nada.\")"
      ],
      "metadata": {
        "colab": {
          "base_uri": "https://localhost:8080/"
        },
        "id": "IHPkRnBov6O2",
        "outputId": "c553de55-c2dc-4d0f-ae97-3c5fece1ef3d"
      },
      "execution_count": 6,
      "outputs": [
        {
          "output_type": "stream",
          "name": "stdout",
          "text": [
            "\n",
            "El archivo no existe. No se eliminó nada.\n"
          ]
        }
      ]
    },
    {
      "cell_type": "code",
      "source": [
        "archivo=\"colores.txt\"\n",
        "f = open(archivo,\"w+\")\n",
        "f.write(\"1blanco\")\n",
        "f.write(\"2negro\")\n",
        "f.write(\"3naranja\")\n",
        "f.write(\"4morado\")\n",
        "f.write(\"5azul\")\n",
        "f.write(\"6amarillo\")\n",
        "f.close()"
      ],
      "metadata": {
        "id": "IMW6zkYzcH0n"
      },
      "execution_count": 7,
      "outputs": []
    },
    {
      "cell_type": "code",
      "source": [
        "# Se abre un archivo en modo Append Extended (a+). Si el archivo no\n",
        "# existe, lo crea, con capacidad de lectura y escrituta. El\n",
        "# apuntador de escritura se coloca al final del archivo.\n",
        "archivo=\"colores.txt\"\n",
        "f = open(archivo,\"a+\")\n",
        "# Verificación de que ya se creo.\n",
        "if os.path.exists(archivo):\n",
        " print(\"\\nEl archivo ya existe\")\n",
        "else:\n",
        " print(\"\\nEl archivo no existe\")\n",
        "# Se cierra el archivo.\n",
        "f.close()"
      ],
      "metadata": {
        "colab": {
          "base_uri": "https://localhost:8080/"
        },
        "id": "4EjgHiDfwqBf",
        "outputId": "19ac7cc7-ebcc-41c5-dc53-9def9bafb78b"
      },
      "execution_count": 8,
      "outputs": [
        {
          "output_type": "stream",
          "name": "stdout",
          "text": [
            "\n",
            "El archivo ya existe\n"
          ]
        }
      ]
    },
    {
      "cell_type": "code",
      "source": [
        "# Abro el archivo en modo Write Extended.\n",
        "# Si el archivo no existe, lo genera. Si existe, lo remplaza.\n",
        "# Los contenidos van en secuencia.\n",
        "archivo=\"colores.txt\"\n",
        "f = open(archivo,\"w+\")\n",
        "# Escribo 4 contenidos en secuencia.\n",
        "f.write(\"Blanco\")\n",
        "f.write(\"Negro\")\n",
        "f.write(\"Naranja\")\n",
        "# Cierro el archivo.\n",
        "f.close()\n"
      ],
      "metadata": {
        "id": "jD1_2bCWw8nE"
      },
      "execution_count": 9,
      "outputs": []
    },
    {
      "cell_type": "code",
      "source": [
        "# Para saltos de línea, se utiliza \\n\n",
        "# Abro el archivo en modo Write Extended\n",
        "archivo=\"colores.txt\"\n",
        "f = open(archivo,\"w+\")\n",
        "# Escribo 4 líneas adicionales.\n",
        "f.write(\"Rojo\\n\")\n",
        "f.write(\"Amarillo\\n\")\n",
        "f.write(\"Verde\\n\")\n",
        "# Agregando los elementos de un iterable\n",
        "mas_colores=[\"Morado\\n\",\"Celeste\\n\",\"Rosa\\n\"]\n",
        "f.writelines(mas_colores)\n",
        "# Cierro el archivo.\n",
        "f.close()\n"
      ],
      "metadata": {
        "id": "rSksZRwRzn6J"
      },
      "execution_count": 10,
      "outputs": []
    },
    {
      "cell_type": "code",
      "source": [
        "archivo=\"colores.txt\"\n",
        "f = open(archivo,\"a+\")\n",
        "# Agregando los elementos de un iterable\n",
        "mas_colores=[\"Morado\\n\",\"Celeste\\n\",\"Rosa\\n\"]\n",
        "f.writelines(mas_colores)\n",
        "# Cierro el archivo.\n",
        "f.close()\n"
      ],
      "metadata": {
        "id": "sISPkPmWz0z3"
      },
      "execution_count": 11,
      "outputs": []
    },
    {
      "cell_type": "code",
      "source": [
        "with open(\"colores.txt\",\"r\") as f:\n",
        " contenido=f.read()\n",
        " print(contenido)\n",
        "# Comprobando que, aunque no se aplicó close(), el archivo\n",
        "# está cerrado.\n",
        "print(\"¿Archivo cerrado?\",f.closed)"
      ],
      "metadata": {
        "colab": {
          "base_uri": "https://localhost:8080/"
        },
        "id": "Ms58VQsh2E8j",
        "outputId": "ce6e21a8-56f9-4496-8bfc-1e4de24c7586"
      },
      "execution_count": 12,
      "outputs": [
        {
          "output_type": "stream",
          "name": "stdout",
          "text": [
            "Rojo\n",
            "Amarillo\n",
            "Verde\n",
            "Morado\n",
            "Celeste\n",
            "Rosa\n",
            "Morado\n",
            "Celeste\n",
            "Rosa\n",
            "\n",
            "¿Archivo cerrado? True\n"
          ]
        }
      ]
    },
    {
      "cell_type": "code",
      "source": [
        "Entradas=[\n",
        " ['correo','nombre','telefono'],\n",
        " ['juan@gmail.com','Juan','8123232323'],\n",
        " ['maria@gmail.com','Maria','5545454545'],\n",
        " ['diana@homail.com','Diana','4490909090']\n",
        "]\n",
        "for e in Entradas:\n",
        " print(f'{e[0]}|{e[1]}|{e[2]}')\n"
      ],
      "metadata": {
        "colab": {
          "base_uri": "https://localhost:8080/"
        },
        "id": "D4DRnwSQ2YRh",
        "outputId": "fda38cdc-4153-475d-d05e-578af74266c7"
      },
      "execution_count": 14,
      "outputs": [
        {
          "output_type": "stream",
          "name": "stdout",
          "text": [
            "correo|nombre|telefono\n",
            "juan@gmail.com|Juan|8123232323\n",
            "maria@gmail.com|Maria|5545454545\n",
            "diana@homail.com|Diana|4490909090\n"
          ]
        }
      ]
    },
    {
      "cell_type": "code",
      "source": [
        "# Se crea una lista vacía.\n",
        "Datos=[]\n",
        "# Se lee el archivo de forma secuencial, y se agregan los elementos\n",
        "# a la lista.\n",
        "with open(\"agenda.csv\",\"r\") as f:\n",
        " # Se lee secuencialmente el archivo de texto.\n",
        " for linea in f:\n",
        " # Se toma el texto de la línea leída, y se divide tomando como separador\n",
        " # el caracter pipe. La función retorna una lista, donde cada parte del\n",
        " # texto es un elemento.\n",
        " lista=linea.split(\"|\")\n",
        " # El último elemento contiene \\n como salto de linea. Se remplaza por nada.\n",
        " lista[2]=lista[2].replace(\"\\n\",\"\")\n",
        " Datos.append(lista)\n",
        "\n",
        "# Se revisa el contenido de la lista\n",
        "print(\">> Contenido de la nueva lista.\\n\")\n",
        "print(Datos)\n"
      ],
      "metadata": {
        "colab": {
          "base_uri": "https://localhost:8080/",
          "height": 140
        },
        "id": "RlANbWgU2nQi",
        "outputId": "08ac231c-e432-4079-b2d7-fc5da3497c10"
      },
      "execution_count": 15,
      "outputs": [
        {
          "output_type": "error",
          "ename": "IndentationError",
          "evalue": "ignored",
          "traceback": [
            "\u001b[0;36m  File \u001b[0;32m\"<ipython-input-15-234facc5efbb>\"\u001b[0;36m, line \u001b[0;32m11\u001b[0m\n\u001b[0;31m    lista=linea.split(\"|\")\u001b[0m\n\u001b[0m    ^\u001b[0m\n\u001b[0;31mIndentationError\u001b[0m\u001b[0;31m:\u001b[0m expected an indented block after 'for' statement on line 7\n"
          ]
        }
      ]
    },
    {
      "cell_type": "code",
      "source": [
        "Datos=[]\n",
        "with open(\"agenda.csv\",\"r+\") as f:\n",
        " for linea in f:\n",
        " lista=linea.split(\"|\")\n",
        " lista[2]=lista[2].replace(\"\\n\",\"\")\n",
        " Datos.append(lista)"
      ],
      "metadata": {
        "colab": {
          "base_uri": "https://localhost:8080/",
          "height": 140
        },
        "id": "0HH3Zfbm2xzx",
        "outputId": "6f217bd5-cc01-431b-9b11-e4e1ffa12d23"
      },
      "execution_count": 16,
      "outputs": [
        {
          "output_type": "error",
          "ename": "IndentationError",
          "evalue": "ignored",
          "traceback": [
            "\u001b[0;36m  File \u001b[0;32m\"<ipython-input-16-73c6356bdde4>\"\u001b[0;36m, line \u001b[0;32m4\u001b[0m\n\u001b[0;31m    lista=linea.split(\"|\")\u001b[0m\n\u001b[0m    ^\u001b[0m\n\u001b[0;31mIndentationError\u001b[0m\u001b[0;31m:\u001b[0m expected an indented block after 'for' statement on line 3\n"
          ]
        }
      ]
    },
    {
      "cell_type": "code",
      "source": [
        "# Se importa el módulo para trabajar con JSON.\n",
        "import json\n",
        "# Se crea un objeto de muestra, para serializar.\n",
        "Original=[\n",
        " ['correo','nombre','telefono'],\n",
        " ['juan@gmail.com','Juan','8123232323'],\n",
        " ['maria@gmail.com','Maria','5545454545'],\n",
        " ['diana@homail.com','Diana','4490909090']\n",
        "]\n",
        "print(\">> Tipo del objeto.\\n\")\n",
        "print(type(Original))\n",
        "print(\"\\n>> Contenido del objeto.\\n\")\n",
        "print(Original)\n",
        "print(\"\\n>> Serialización a JSON.\\n\")\n",
        "Original_JSON=json.dumps(Original,indent=4)\n",
        "print(Original_JSON)\n",
        "print(\"\\n>> Deserialización desde JSON.\\n\")\n",
        "Nueva_Lista=json.loads(Original_JSON)\n",
        "print(Nueva_Lista)\n",
        "print(type(Nueva_Lista))\n",
        "print(\"\\n>> Comprobando iguald\")"
      ],
      "metadata": {
        "colab": {
          "base_uri": "https://localhost:8080/"
        },
        "id": "kFxL_91723h4",
        "outputId": "3a0c01e3-92f4-4b72-8287-f79c4708b155"
      },
      "execution_count": 17,
      "outputs": [
        {
          "output_type": "stream",
          "name": "stdout",
          "text": [
            ">> Tipo del objeto.\n",
            "\n",
            "<class 'list'>\n",
            "\n",
            ">> Contenido del objeto.\n",
            "\n",
            "[['correo', 'nombre', 'telefono'], ['juan@gmail.com', 'Juan', '8123232323'], ['maria@gmail.com', 'Maria', '5545454545'], ['diana@homail.com', 'Diana', '4490909090']]\n",
            "\n",
            ">> Serialización a JSON.\n",
            "\n",
            "[\n",
            "    [\n",
            "        \"correo\",\n",
            "        \"nombre\",\n",
            "        \"telefono\"\n",
            "    ],\n",
            "    [\n",
            "        \"juan@gmail.com\",\n",
            "        \"Juan\",\n",
            "        \"8123232323\"\n",
            "    ],\n",
            "    [\n",
            "        \"maria@gmail.com\",\n",
            "        \"Maria\",\n",
            "        \"5545454545\"\n",
            "    ],\n",
            "    [\n",
            "        \"diana@homail.com\",\n",
            "        \"Diana\",\n",
            "        \"4490909090\"\n",
            "    ]\n",
            "]\n",
            "\n",
            ">> Deserialización desde JSON.\n",
            "\n",
            "[['correo', 'nombre', 'telefono'], ['juan@gmail.com', 'Juan', '8123232323'], ['maria@gmail.com', 'Maria', '5545454545'], ['diana@homail.com', 'Diana', '4490909090']]\n",
            "<class 'list'>\n",
            "\n",
            ">> Comprobando iguald\n"
          ]
        }
      ]
    },
    {
      "cell_type": "code",
      "source": [
        "# Grabando el JSON en un archivo.\n",
        "with open(\"archivo.json\",\"w+\") as f:\n",
        " json.dump(Original,f,indent=4)\n",
        "# Leyendo datos de un archivo json\n",
        "with open(\"archivo.json\",\"r\") as f:\n",
        " recuperados=json.load(f)\n",
        "print(recuperados)\n",
        "print(\"\\n>> Comprobando igualdad de objetos.\\n\")\n",
        "print(Original==recuperados)"
      ],
      "metadata": {
        "colab": {
          "base_uri": "https://localhost:8080/"
        },
        "id": "r73iBEnN3QK4",
        "outputId": "2b6a1cbd-5e51-4e24-e5ed-c495346f19f7"
      },
      "execution_count": 18,
      "outputs": [
        {
          "output_type": "stream",
          "name": "stdout",
          "text": [
            "[['correo', 'nombre', 'telefono'], ['juan@gmail.com', 'Juan', '8123232323'], ['maria@gmail.com', 'Maria', '5545454545'], ['diana@homail.com', 'Diana', '4490909090']]\n",
            "\n",
            ">> Comprobando igualdad de objetos.\n",
            "\n",
            "True\n"
          ]
        }
      ]
    },
    {
      "cell_type": "code",
      "source": [
        "# Se importa el módulo para trabajar con JSON.\n",
        "import pickle\n",
        "# Observa cómo pickle es un formato binario.\n",
        "print(\"\\n>> Serialización a Pickle.\\n\")\n",
        "Original_pickle=pickle.dumps(Original)\n",
        "print(Original_pickle)\n",
        "print(\"\\n>> Deserialización desde Pickle.\\n\")\n",
        "Nueva_Lista=pickle.loads(Original_pickle)\n",
        "print(Nueva_Lista)\n",
        "print(type(Nueva_Lista))\n",
        "print(\"\\n>> Comprobando igualdad de objetos.\\n\")\n",
        "print(Original==Nueva_Lista)"
      ],
      "metadata": {
        "colab": {
          "base_uri": "https://localhost:8080/"
        },
        "id": "qr9wReOz3WaX",
        "outputId": "6f0be6c0-ae3b-426c-bce0-0119a126cd59"
      },
      "execution_count": 19,
      "outputs": [
        {
          "output_type": "stream",
          "name": "stdout",
          "text": [
            "\n",
            ">> Serialización a Pickle.\n",
            "\n",
            "b'\\x80\\x04\\x95\\xa6\\x00\\x00\\x00\\x00\\x00\\x00\\x00]\\x94(]\\x94(\\x8c\\x06correo\\x94\\x8c\\x06nombre\\x94\\x8c\\x08telefono\\x94e]\\x94(\\x8c\\x0ejuan@gmail.com\\x94\\x8c\\x04Juan\\x94\\x8c\\n8123232323\\x94e]\\x94(\\x8c\\x0fmaria@gmail.com\\x94\\x8c\\x05Maria\\x94\\x8c\\n5545454545\\x94e]\\x94(\\x8c\\x10diana@homail.com\\x94\\x8c\\x05Diana\\x94\\x8c\\n4490909090\\x94ee.'\n",
            "\n",
            ">> Deserialización desde Pickle.\n",
            "\n",
            "[['correo', 'nombre', 'telefono'], ['juan@gmail.com', 'Juan', '8123232323'], ['maria@gmail.com', 'Maria', '5545454545'], ['diana@homail.com', 'Diana', '4490909090']]\n",
            "<class 'list'>\n",
            "\n",
            ">> Comprobando igualdad de objetos.\n",
            "\n",
            "True\n"
          ]
        }
      ]
    },
    {
      "cell_type": "code",
      "source": [
        "# Grabando el pickle en un archivo.\n",
        "with open(\"archivo.pickle\",\"wb+\") as f:\n",
        " pickle.dump(Original,f)\n",
        "# Leyendo datos de un archivo pickle\n",
        "with open(\"archivo.pickle\",\"rb\") as f:\n",
        " recuperados=pickle.load(f)\n",
        "print(recuperados)\n",
        "print(\"\\n>> Comprobando igualdad de objetos.\\n\")\n",
        "print(Original==recuperados)"
      ],
      "metadata": {
        "colab": {
          "base_uri": "https://localhost:8080/"
        },
        "id": "ImaZYj-53ixf",
        "outputId": "23c1fb23-24ea-4b3b-ef81-b6c5f13cd739"
      },
      "execution_count": 20,
      "outputs": [
        {
          "output_type": "stream",
          "name": "stdout",
          "text": [
            "[['correo', 'nombre', 'telefono'], ['juan@gmail.com', 'Juan', '8123232323'], ['maria@gmail.com', 'Maria', '5545454545'], ['diana@homail.com', 'Diana', '4490909090']]\n",
            "\n",
            ">> Comprobando igualdad de objetos.\n",
            "\n",
            "True\n"
          ]
        }
      ]
    },
    {
      "cell_type": "code",
      "source": [
        "Entradas=[\n",
        " ['correo','nombre','telefono'],\n",
        " ['juan@gmail.com','Juan','8123232323'],\n",
        " ['maria@gmail.com','Maria','5545454545'],\n",
        " ['diana@homail.com','Diana','4490909090']\n",
        "]\n",
        "for e in Entradas:\n",
        " print(f'{e[0]},{e[1]},{e[2]}')"
      ],
      "metadata": {
        "colab": {
          "base_uri": "https://localhost:8080/"
        },
        "id": "j72Sm_Gw4AeX",
        "outputId": "4694fc4b-4df7-4546-b9e5-ac42fb9d4bf4"
      },
      "execution_count": 21,
      "outputs": [
        {
          "output_type": "stream",
          "name": "stdout",
          "text": [
            "correo,nombre,telefono\n",
            "juan@gmail.com,Juan,8123232323\n",
            "maria@gmail.com,Maria,5545454545\n",
            "diana@homail.com,Diana,4490909090\n"
          ]
        }
      ]
    },
    {
      "cell_type": "code",
      "source": [
        "# Importar el módulo requerido para el manejo de archivos.\n",
        "import os\n",
        "# Muestra el directorio actual de trabajo. Utiliza getcwd()\n",
        "print(os.getcwd())"
      ],
      "metadata": {
        "colab": {
          "base_uri": "https://localhost:8080/"
        },
        "id": "ttfp8mFS4Cyu",
        "outputId": "f3ad47fa-54ab-4dba-ecea-cdb98f0a8305"
      },
      "execution_count": 22,
      "outputs": [
        {
          "output_type": "stream",
          "name": "stdout",
          "text": [
            "/content\n"
          ]
        }
      ]
    },
    {
      "cell_type": "code",
      "source": [
        "# Verifica si existen los archivos de respaldo, en cuyo\n",
        "# caso, se eliminan. Usa exists() y remove()\n",
        "if os.path.exists('agenda.csv.bak'):\n",
        " os.remove('agenda.csv.bak')\n",
        "if os.path.exists('agenda.json.bak'):\n",
        " os.remove('agenda.json.bak')\n",
        "# Verifica si existen los archivos de trabajo con datos, en cuyo\n",
        "# caso, se renombran a sus equivalentes de respaldo.\n",
        "# Usa exists() y rename()\n",
        "if os.path.exists('agenda.csv'):\n",
        " os.rename('agenda.csv','agenda.csv.bak')\n",
        "if os.path.exists('agenda.json'):\n",
        " os.rename('agenda.json','agenda.json.bak')\n",
        "# Este código no genera salidas."
      ],
      "metadata": {
        "id": "xe_n51iK4JG3"
      },
      "execution_count": 23,
      "outputs": []
    },
    {
      "cell_type": "code",
      "source": [
        "# Abrir el archivo de datos CSV como Write Extended.\n",
        "# Usar como apuntador de archivo \"f\".\n",
        "# usa open() y el modo w+\n",
        "f = open('agenda.csv','w+')\n",
        "# Escribir los datos de la lista, como datos del CSV\n",
        "# Usa for para leer la lista secuencialmente.\n",
        "# Apóyate en F-String para el formato.\n",
        "# No olvides el salto de línea.\n",
        "for e in Entradas:\n",
        " f.write(f'{e[0]}|{e[1]}|{e[2]}\\n')\n",
        "# No olvides cerrar el archivo\n",
        "f.close()\n",
        "# Comprueba en tu directorio de trabajo, si ya existe el\n",
        "# archivo de datos CSV.\n",
        "# Este código no genera salidas."
      ],
      "metadata": {
        "id": "mcPkUsrR4SPz"
      },
      "execution_count": 24,
      "outputs": []
    },
    {
      "cell_type": "code",
      "source": [
        "# Abre el archivo de datos CSV, en modo de solo lectura.\n",
        "# Usa f como apuntador de archivo. Usa open() en modo r.\n",
        "f=open('agenda.csv','r')\n",
        "# Lee el contenido del archivo y colócalo en una variable\n",
        "# llamada contenido. Utiliza read().\n",
        "contenido=f.read()\n",
        "# Cierra el archivo. Utiliza close()\n",
        "f.close()\n",
        "# Muestra el contenido del archivo, que ya tienes en una variable.\n",
        "print(contenido)"
      ],
      "metadata": {
        "colab": {
          "base_uri": "https://localhost:8080/"
        },
        "id": "zDXTkl2w4cnO",
        "outputId": "65072704-4bb9-4953-9ed1-8799e98eda67"
      },
      "execution_count": 25,
      "outputs": [
        {
          "output_type": "stream",
          "name": "stdout",
          "text": [
            "correo|nombre|telefono\n",
            "juan@gmail.com|Juan|8123232323\n",
            "maria@gmail.com|Maria|5545454545\n",
            "diana@homail.com|Diana|4490909090\n",
            "\n"
          ]
        }
      ]
    },
    {
      "cell_type": "code",
      "source": [
        "# Se genera una lista vacía llamada Contactos\n",
        "Contactos=[]\n",
        "# Abrir el archivo de datos CSV, en modo de solo lectura.\n",
        "# usa open, en modo r.\n",
        "f = open('agenda.csv','r')\n",
        "# Elabora un ciclo for, que coloque en una variable llamada\n",
        "# linea a cada una de las líneas en el archivo apuntado\n",
        "# como f. Recuerda que leer un archivo plano con for equivale\n",
        "# a leerlo línea por línea.\n",
        "for linea in f:\n",
        " # Asigna a una variable llamada lista_datos, el equivalente\n",
        " # en lista del contenido de datos, usando como separador\n",
        " # el pipe line. Usa split(), con \"|\" como delimitador.\n",
        " lista_datos=linea.split('|')\n",
        " print(lista_datos)\n",
        " # Elimina el salto de línea del último elemento de la lista\n",
        " lista_datos[2]=lista_datos[2].replace(\"\\n\",\"\")\n",
        " # Agrega la lista de datos contenida en lista_datos\n",
        " # a la lista Contactos\n",
        " Contactos.append(lista_datos)\n",
        "# Cerrar archivo\n",
        "f.close()\n",
        "# Imprime Entradas y Contactos, y comprueba que son iguales\n",
        "print(Entradas)\n",
        "print(Contactos)"
      ],
      "metadata": {
        "colab": {
          "base_uri": "https://localhost:8080/"
        },
        "id": "QNc-Mv984ebX",
        "outputId": "0c456ece-500e-4986-d661-0a8c8145d996"
      },
      "execution_count": 26,
      "outputs": [
        {
          "output_type": "stream",
          "name": "stdout",
          "text": [
            "['correo', 'nombre', 'telefono\\n']\n",
            "['juan@gmail.com', 'Juan', '8123232323\\n']\n",
            "['maria@gmail.com', 'Maria', '5545454545\\n']\n",
            "['diana@homail.com', 'Diana', '4490909090\\n']\n",
            "[['correo', 'nombre', 'telefono'], ['juan@gmail.com', 'Juan', '8123232323'], ['maria@gmail.com', 'Maria', '5545454545'], ['diana@homail.com', 'Diana', '4490909090']]\n",
            "[['correo', 'nombre', 'telefono'], ['juan@gmail.com', 'Juan', '8123232323'], ['maria@gmail.com', 'Maria', '5545454545'], ['diana@homail.com', 'Diana', '4490909090']]\n"
          ]
        }
      ]
    },
    {
      "cell_type": "code",
      "source": [
        "# Importa la librería para el soporte JSON\n",
        "import json\n",
        "# Almacena en una variable llamada datos_json, que almacene\n",
        "# un volcado de datos. Utiliza dumps().\n",
        "# Proporciona formato con identación a 4 posiciones.\n",
        "datos_json=json.dumps(Contactos,indent=4)\n",
        "# Muestra el conten"
      ],
      "metadata": {
        "id": "qF9l62fT4tcN"
      },
      "execution_count": 27,
      "outputs": []
    },
    {
      "cell_type": "code",
      "source": [
        "# Abrir el archivo de datos JSON, en modo de solo lectura.\n",
        "# usa open(), en modo r. Usa el apuntador de archivo f.\n",
        "f = open('agenda.json','r')\n",
        "# Carga el contenido JSON en una lista. Usa loads() y read().\n",
        "# Almacena la lectura en una variable llamada Contactos_JSON.\n",
        "Contactos_JSON=json.loads(f.read())\n",
        "# Imprime Entradas, Contactos y Contactos JSON.\n",
        "# Comprueba que son iguales.\n",
        "print(Entradas)\n",
        "print(Contactos)\n",
        "print(Contactos_JSON)"
      ],
      "metadata": {
        "colab": {
          "base_uri": "https://localhost:8080/"
        },
        "id": "Sztfy6_y4yUt",
        "outputId": "7d3f1884-7a84-45e8-a4dc-89ac8036bcbe"
      },
      "execution_count": 30,
      "outputs": [
        {
          "output_type": "stream",
          "name": "stdout",
          "text": [
            "[['correo', 'nombre', 'telefono'], ['juan@gmail.com', 'Juan', '8123232323'], ['maria@gmail.com', 'Maria', '5545454545'], ['diana@homail.com', 'Diana', '4490909090']]\n",
            "[['correo', 'nombre', 'telefono'], ['juan@gmail.com', 'Juan', '8123232323'], ['maria@gmail.com', 'Maria', '5545454545'], ['diana@homail.com', 'Diana', '4490909090']]\n",
            "[['correo', 'nombre', 'telefono'], ['juan@gmail.com', 'Juan', '8123232323'], ['maria@gmail.com', 'Maria', '5545454545'], ['diana@homail.com', 'Diana', '4490909090']]\n"
          ]
        }
      ]
    },
    {
      "cell_type": "code",
      "source": [
        "# Guarda la serialización en un archivo como agenda.json.\n",
        "# Utiliza open() en modo Write Extended.\n",
        "# Usa f como apuntador de archivo.\n",
        "f = open('agenda.json','w+')\n",
        "f.write(datos_json)\n",
        "f.close()\n",
        "# Este código no genera salidas"
      ],
      "metadata": {
        "id": "XDg2zhPF44tW"
      },
      "execution_count": 29,
      "outputs": []
    },
    {
      "cell_type": "code",
      "source": [
        "# Abrir el archivo de datos JSON, en modo de solo lectura.\n",
        "# usa open(), en modo r. Usa el apuntador de archivo f.\n",
        "f = open('agenda.json','r')\n",
        "# Carga el contenido JSON en una lista. Usa loads() y read().\n",
        "# Almacena la lectura en una variable llamada Contactos_JSON.\n",
        "Contactos_JSON=json.loads(f.read())\n",
        "# Imprime Entradas, Contactos y Contactos JSON.\n",
        "# Comprueba que son iguales.\n",
        "print(Entradas)\n",
        "print(Contactos)\n",
        "print(Contactos_JSON)"
      ],
      "metadata": {
        "colab": {
          "base_uri": "https://localhost:8080/"
        },
        "id": "nRD14FCc5InV",
        "outputId": "1b9de805-c668-44ee-eb6f-a2dd048164df"
      },
      "execution_count": 31,
      "outputs": [
        {
          "output_type": "stream",
          "name": "stdout",
          "text": [
            "[['correo', 'nombre', 'telefono'], ['juan@gmail.com', 'Juan', '8123232323'], ['maria@gmail.com', 'Maria', '5545454545'], ['diana@homail.com', 'Diana', '4490909090']]\n",
            "[['correo', 'nombre', 'telefono'], ['juan@gmail.com', 'Juan', '8123232323'], ['maria@gmail.com', 'Maria', '5545454545'], ['diana@homail.com', 'Diana', '4490909090']]\n",
            "[['correo', 'nombre', 'telefono'], ['juan@gmail.com', 'Juan', '8123232323'], ['maria@gmail.com', 'Maria', '5545454545'], ['diana@homail.com', 'Diana', '4490909090']]\n"
          ]
        }
      ]
    },
    {
      "cell_type": "code",
      "source": [
        "import os\n",
        "import pickle"
      ],
      "metadata": {
        "id": "0mRYFYzR5Kj0"
      },
      "execution_count": 32,
      "outputs": []
    },
    {
      "cell_type": "code",
      "source": [
        "print(Entradas)\n",
        "print(type(Entradas))\n"
      ],
      "metadata": {
        "colab": {
          "base_uri": "https://localhost:8080/"
        },
        "id": "o58jxZSG5gAt",
        "outputId": "d39ae830-dc6c-42b7-acf4-7b92d8a52e85"
      },
      "execution_count": 33,
      "outputs": [
        {
          "output_type": "stream",
          "name": "stdout",
          "text": [
            "[['correo', 'nombre', 'telefono'], ['juan@gmail.com', 'Juan', '8123232323'], ['maria@gmail.com', 'Maria', '5545454545'], ['diana@homail.com', 'Diana', '4490909090']]\n",
            "<class 'list'>\n"
          ]
        }
      ]
    },
    {
      "cell_type": "code",
      "source": [
        "with open(\"Entradas.pickle\",\"wb+\") as f:\n",
        " pickle.dump(Entradas,f)\n"
      ],
      "metadata": {
        "id": "wHzqzuDY5ssy"
      },
      "execution_count": 34,
      "outputs": []
    },
    {
      "cell_type": "code",
      "source": [
        "with open(\"Entradas.pickle\",\"rb\") as f:\n",
        " Recuperado=pickle.load(f)"
      ],
      "metadata": {
        "id": "Z1xugGqK5xAj"
      },
      "execution_count": 35,
      "outputs": []
    },
    {
      "cell_type": "code",
      "source": [
        "print(Entradas==Recuperado)"
      ],
      "metadata": {
        "colab": {
          "base_uri": "https://localhost:8080/"
        },
        "id": "8NALR19F535a",
        "outputId": "f88a51d2-5561-4e8a-993b-32744423bb2c"
      },
      "execution_count": 36,
      "outputs": [
        {
          "output_type": "stream",
          "name": "stdout",
          "text": [
            "True\n"
          ]
        }
      ]
    }
  ]
}